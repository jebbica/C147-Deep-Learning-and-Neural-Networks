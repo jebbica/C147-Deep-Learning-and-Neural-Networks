{
 "cells": [
  {
   "cell_type": "markdown",
   "metadata": {},
   "source": [
    "# Dropout\n",
    "\n",
    "In this notebook, you will implement dropout.  Then we will ask you to train a network with batchnorm and dropout, and acheive over 55% accuracy on CIFAR-10.\n",
    "\n",
    "CS231n has built a solid API for building these modular frameworks and training them, and we will use their very well implemented framework as opposed to \"reinventing the wheel.\"  This includes using their Solver, various utility functions, and their layer structure.  This also includes nndl.fc_net, nndl.layers, and nndl.layer_utils.  As in prior assignments, we thank Serena Yeung & Justin Johnson for permission to use code written for the CS 231n class (cs231n.stanford.edu).  "
   ]
  },
  {
   "cell_type": "code",
   "execution_count": 1,
   "metadata": {
    "collapsed": true
   },
   "outputs": [],
   "source": [
    "## Import and setups\n",
    "\n",
    "import time\n",
    "import numpy as np\n",
    "import matplotlib.pyplot as plt\n",
    "from nndl.fc_net import *\n",
    "from nndl.layers import *\n",
    "from utils.data_utils import get_CIFAR10_data\n",
    "from utils.gradient_check import eval_numerical_gradient, eval_numerical_gradient_array\n",
    "from utils.solver import Solver\n",
    "\n",
    "%matplotlib inline\n",
    "plt.rcParams['figure.figsize'] = (10.0, 8.0) # set default size of plots\n",
    "plt.rcParams['image.interpolation'] = 'nearest'\n",
    "plt.rcParams['image.cmap'] = 'gray'\n",
    "\n",
    "# for auto-reloading external modules\n",
    "# see http://stackoverflow.com/questions/1907993/autoreload-of-modules-in-ipython\n",
    "%load_ext autoreload\n",
    "%autoreload 2\n",
    "\n",
    "def rel_error(x, y):\n",
    "  \"\"\" returns relative error \"\"\"\n",
    "  return np.max(np.abs(x - y) / (np.maximum(1e-8, np.abs(x) + np.abs(y))))"
   ]
  },
  {
   "cell_type": "code",
   "execution_count": 2,
   "metadata": {},
   "outputs": [
    {
     "name": "stdout",
     "output_type": "stream",
     "text": [
      "X_train: (49000, 3, 32, 32) \n",
      "y_train: (49000,) \n",
      "X_val: (1000, 3, 32, 32) \n",
      "y_val: (1000,) \n",
      "X_test: (1000, 3, 32, 32) \n",
      "y_test: (1000,) \n"
     ]
    }
   ],
   "source": [
    "# Load the (preprocessed) CIFAR10 data.\n",
    "\n",
    "data = get_CIFAR10_data()\n",
    "for k in data.keys():\n",
    "  print('{}: {} '.format(k, data[k].shape))"
   ]
  },
  {
   "cell_type": "markdown",
   "metadata": {},
   "source": [
    "## Dropout forward pass\n",
    "\n",
    "Implement the training and test time dropout forward pass, `dropout_forward`, in `nndl/layers.py`. After that, test your implementation by running the following cell."
   ]
  },
  {
   "cell_type": "code",
   "execution_count": 4,
   "metadata": {},
   "outputs": [
    {
     "name": "stdout",
     "output_type": "stream",
     "text": [
      "Running tests with p =  0.3\n",
      "Mean of input:  10.003225190648825\n",
      "Mean of train-time output:  10.011147338919587\n",
      "Mean of test-time output:  10.003225190648825\n",
      "Fraction of train-time output set to zero:  0.699776\n",
      "Fraction of test-time output set to zero:  0.0\n",
      "Running tests with p =  0.6\n",
      "Mean of input:  10.003225190648825\n",
      "Mean of train-time output:  9.978352959114723\n",
      "Mean of test-time output:  10.003225190648825\n",
      "Fraction of train-time output set to zero:  0.40156\n",
      "Fraction of test-time output set to zero:  0.0\n",
      "Running tests with p =  0.75\n",
      "Mean of input:  10.003225190648825\n",
      "Mean of train-time output:  10.000808346367215\n",
      "Mean of test-time output:  10.003225190648825\n",
      "Fraction of train-time output set to zero:  0.250124\n",
      "Fraction of test-time output set to zero:  0.0\n"
     ]
    }
   ],
   "source": [
    "x = np.random.randn(500, 500) + 10\n",
    "\n",
    "for p in [0.3, 0.6, 0.75]:\n",
    "  out, _ = dropout_forward(x, {'mode': 'train', 'p': p})\n",
    "  out_test, _ = dropout_forward(x, {'mode': 'test', 'p': p})\n",
    "\n",
    "  print('Running tests with p = ', p)\n",
    "  print('Mean of input: ', x.mean())\n",
    "  print('Mean of train-time output: ', out.mean())\n",
    "  print('Mean of test-time output: ', out_test.mean())\n",
    "  print('Fraction of train-time output set to zero: ', (out == 0).mean())\n",
    "  print('Fraction of test-time output set to zero: ', (out_test == 0).mean())"
   ]
  },
  {
   "cell_type": "markdown",
   "metadata": {},
   "source": [
    "## Dropout backward pass\n",
    "\n",
    "Implement the backward pass, `dropout_backward`, in `nndl/layers.py`.  After that, test your gradients by running the following cell:"
   ]
  },
  {
   "cell_type": "code",
   "execution_count": 5,
   "metadata": {},
   "outputs": [
    {
     "name": "stdout",
     "output_type": "stream",
     "text": [
      "dx relative error:  5.445610771836907e-11\n"
     ]
    }
   ],
   "source": [
    "x = np.random.randn(10, 10) + 10\n",
    "dout = np.random.randn(*x.shape)\n",
    "\n",
    "dropout_param = {'mode': 'train', 'p': 0.8, 'seed': 123}\n",
    "out, cache = dropout_forward(x, dropout_param)\n",
    "dx = dropout_backward(dout, cache)\n",
    "dx_num = eval_numerical_gradient_array(lambda xx: dropout_forward(xx, dropout_param)[0], x, dout)\n",
    "\n",
    "print('dx relative error: ', rel_error(dx, dx_num))"
   ]
  },
  {
   "cell_type": "markdown",
   "metadata": {},
   "source": [
    "## Implement a fully connected neural network with dropout layers\n",
    "\n",
    "Modify the `FullyConnectedNet()` class in `nndl/fc_net.py` to incorporate dropout.  A dropout layer should be incorporated after every ReLU layer.  Concretely, there shouldn't be a dropout at the output layer since there is no ReLU at the output layer. You will need to modify the class in the following areas:\n",
    "\n",
    "(1) In the forward pass, you will need to incorporate a dropout layer after every relu layer.\n",
    "\n",
    "(2) In the backward pass, you will need to incorporate a dropout backward pass layer.\n",
    "\n",
    "Check your implementation by running the following code.  Our W1 gradient relative error is on the order of 1e-6 (the largest of all the relative errors)."
   ]
  },
  {
   "cell_type": "code",
   "execution_count": 13,
   "metadata": {},
   "outputs": [
    {
     "name": "stdout",
     "output_type": "stream",
     "text": [
      "Running check with dropout =  0\n",
      "Initial loss:  2.303043161170242\n",
      "W1 relative error: 4.795196815215288e-07\n",
      "W2 relative error: 1.9717710574314515e-07\n",
      "W3 relative error: 1.5587099483501822e-07\n",
      "b1 relative error: 2.033615448560775e-08\n",
      "b2 relative error: 1.686315567518667e-09\n",
      "b3 relative error: 1.1144421861081857e-10\n",
      "\n",
      "\n",
      "Running check with dropout =  0.25\n",
      "Initial loss:  2.3161871104971326\n",
      "W1 relative error: 3.2340141421343043e-07\n",
      "W2 relative error: 4.813124944464727e-09\n",
      "W3 relative error: 2.5076237000747585e-09\n",
      "b1 relative error: 3.817580030628832e-08\n",
      "b2 relative error: 1.277703658392353e-10\n",
      "b3 relative error: 6.263703890666123e-11\n",
      "\n",
      "\n",
      "Running check with dropout =  0.5\n",
      "Initial loss:  2.3040458699680304\n",
      "W1 relative error: 6.150172004305114e-07\n",
      "W2 relative error: 4.353961611622114e-08\n",
      "W3 relative error: 9.77483271160455e-08\n",
      "b1 relative error: 3.966755772218227e-08\n",
      "b2 relative error: 6.245710242676597e-10\n",
      "b3 relative error: 1.2392033987263167e-10\n",
      "\n",
      "\n"
     ]
    }
   ],
   "source": [
    "N, D, H1, H2, C = 2, 15, 20, 30, 10\n",
    "X = np.random.randn(N, D)\n",
    "y = np.random.randint(C, size=(N,))\n",
    "\n",
    "for dropout in [0, 0.25, 0.5]:\n",
    "  print('Running check with dropout = ', dropout)\n",
    "  model = FullyConnectedNet([H1, H2], input_dim=D, num_classes=C,\n",
    "                            weight_scale=5e-2, dtype=np.float64,\n",
    "                            dropout=dropout, seed=123)\n",
    "\n",
    "  loss, grads = model.loss(X, y)\n",
    "  print('Initial loss: ', loss)\n",
    "\n",
    "  for name in sorted(grads):\n",
    "    f = lambda _: model.loss(X, y)[0]\n",
    "    grad_num = eval_numerical_gradient(f, model.params[name], verbose=False, h=1e-5)\n",
    "    print('{} relative error: {}'.format(name, rel_error(grad_num, grads[name])))\n",
    "  print('\\n')"
   ]
  },
  {
   "cell_type": "markdown",
   "metadata": {},
   "source": [
    "## Dropout as a regularizer\n",
    "\n",
    "In class, we claimed that dropout acts as a regularizer by effectively bagging.  To check this, we will train two small networks, one with dropout and one without dropout.  "
   ]
  },
  {
   "cell_type": "code",
   "execution_count": 24,
   "metadata": {},
   "outputs": [
    {
     "name": "stdout",
     "output_type": "stream",
     "text": [
      "(Iteration 1 / 125) loss: 2.300903\n",
      "(Epoch 0 / 25) train acc: 0.186000; val_acc: 0.159000\n",
      "(Epoch 1 / 25) train acc: 0.228000; val_acc: 0.190000\n",
      "(Epoch 2 / 25) train acc: 0.258000; val_acc: 0.201000\n",
      "(Epoch 3 / 25) train acc: 0.310000; val_acc: 0.244000\n",
      "(Epoch 4 / 25) train acc: 0.350000; val_acc: 0.263000\n",
      "(Epoch 5 / 25) train acc: 0.370000; val_acc: 0.279000\n",
      "(Epoch 6 / 25) train acc: 0.440000; val_acc: 0.306000\n",
      "(Epoch 7 / 25) train acc: 0.480000; val_acc: 0.307000\n",
      "(Epoch 8 / 25) train acc: 0.508000; val_acc: 0.311000\n",
      "(Epoch 9 / 25) train acc: 0.596000; val_acc: 0.311000\n",
      "(Epoch 10 / 25) train acc: 0.608000; val_acc: 0.332000\n",
      "(Epoch 11 / 25) train acc: 0.690000; val_acc: 0.304000\n",
      "(Epoch 12 / 25) train acc: 0.736000; val_acc: 0.288000\n",
      "(Epoch 13 / 25) train acc: 0.780000; val_acc: 0.307000\n",
      "(Epoch 14 / 25) train acc: 0.812000; val_acc: 0.301000\n",
      "(Epoch 15 / 25) train acc: 0.814000; val_acc: 0.291000\n",
      "(Epoch 16 / 25) train acc: 0.862000; val_acc: 0.299000\n",
      "(Epoch 17 / 25) train acc: 0.898000; val_acc: 0.277000\n",
      "(Epoch 18 / 25) train acc: 0.932000; val_acc: 0.297000\n",
      "(Epoch 19 / 25) train acc: 0.946000; val_acc: 0.273000\n",
      "(Epoch 20 / 25) train acc: 0.966000; val_acc: 0.317000\n",
      "(Iteration 101 / 125) loss: 0.129813\n",
      "(Epoch 21 / 25) train acc: 0.978000; val_acc: 0.306000\n",
      "(Epoch 22 / 25) train acc: 0.986000; val_acc: 0.273000\n",
      "(Epoch 23 / 25) train acc: 0.992000; val_acc: 0.298000\n",
      "(Epoch 24 / 25) train acc: 0.990000; val_acc: 0.303000\n",
      "(Epoch 25 / 25) train acc: 0.996000; val_acc: 0.316000\n",
      "(Iteration 1 / 125) loss: 2.301961\n",
      "(Epoch 0 / 25) train acc: 0.178000; val_acc: 0.128000\n",
      "(Epoch 1 / 25) train acc: 0.154000; val_acc: 0.146000\n",
      "(Epoch 2 / 25) train acc: 0.248000; val_acc: 0.203000\n",
      "(Epoch 3 / 25) train acc: 0.300000; val_acc: 0.224000\n",
      "(Epoch 4 / 25) train acc: 0.326000; val_acc: 0.237000\n",
      "(Epoch 5 / 25) train acc: 0.376000; val_acc: 0.275000\n",
      "(Epoch 6 / 25) train acc: 0.416000; val_acc: 0.292000\n",
      "(Epoch 7 / 25) train acc: 0.438000; val_acc: 0.301000\n",
      "(Epoch 8 / 25) train acc: 0.520000; val_acc: 0.308000\n",
      "(Epoch 9 / 25) train acc: 0.544000; val_acc: 0.319000\n",
      "(Epoch 10 / 25) train acc: 0.574000; val_acc: 0.330000\n",
      "(Epoch 11 / 25) train acc: 0.596000; val_acc: 0.322000\n",
      "(Epoch 12 / 25) train acc: 0.636000; val_acc: 0.331000\n",
      "(Epoch 13 / 25) train acc: 0.700000; val_acc: 0.340000\n",
      "(Epoch 14 / 25) train acc: 0.718000; val_acc: 0.331000\n",
      "(Epoch 15 / 25) train acc: 0.736000; val_acc: 0.306000\n",
      "(Epoch 16 / 25) train acc: 0.786000; val_acc: 0.330000\n",
      "(Epoch 17 / 25) train acc: 0.820000; val_acc: 0.319000\n",
      "(Epoch 18 / 25) train acc: 0.852000; val_acc: 0.324000\n",
      "(Epoch 19 / 25) train acc: 0.860000; val_acc: 0.314000\n",
      "(Epoch 20 / 25) train acc: 0.872000; val_acc: 0.319000\n",
      "(Iteration 101 / 125) loss: 0.421533\n",
      "(Epoch 21 / 25) train acc: 0.912000; val_acc: 0.331000\n",
      "(Epoch 22 / 25) train acc: 0.928000; val_acc: 0.301000\n",
      "(Epoch 23 / 25) train acc: 0.960000; val_acc: 0.299000\n",
      "(Epoch 24 / 25) train acc: 0.972000; val_acc: 0.298000\n",
      "(Epoch 25 / 25) train acc: 0.960000; val_acc: 0.313000\n"
     ]
    }
   ],
   "source": [
    "# Train two identical nets, one with dropout and one without\n",
    "\n",
    "num_train = 500\n",
    "small_data = {\n",
    "  'X_train': data['X_train'][:num_train],\n",
    "  'y_train': data['y_train'][:num_train],\n",
    "  'X_val': data['X_val'],\n",
    "  'y_val': data['y_val'],\n",
    "}\n",
    "\n",
    "solvers = {}\n",
    "dropout_choices = [0, 0.6]\n",
    "for dropout in dropout_choices:\n",
    "  model = FullyConnectedNet([100, 100, 100], dropout=dropout)\n",
    "\n",
    "  solver = Solver(model, small_data,\n",
    "                  num_epochs=25, batch_size=100,\n",
    "                  update_rule='adam',\n",
    "                  optim_config={\n",
    "                    'learning_rate': 5e-4,\n",
    "                  },\n",
    "                  verbose=True, print_every=100)\n",
    "  solver.train()\n",
    "  solvers[dropout] = solver"
   ]
  },
  {
   "cell_type": "code",
   "execution_count": 25,
   "metadata": {},
   "outputs": [
    {
     "data": {
      "image/png": "[encoded data removed]",
      "text/plain": [
       "<Figure size 1500x1500 with 2 Axes>"
      ]
     },
     "metadata": {},
     "output_type": "display_data"
    }
   ],
   "source": [
    "# Plot train and validation accuracies of the two models\n",
    "\n",
    "train_accs = []\n",
    "val_accs = []\n",
    "for dropout in dropout_choices:\n",
    "  solver = solvers[dropout]\n",
    "  train_accs.append(solver.train_acc_history[-1])\n",
    "  val_accs.append(solver.val_acc_history[-1])\n",
    "\n",
    "plt.subplot(3, 1, 1)\n",
    "for dropout in dropout_choices:\n",
    "  plt.plot(solvers[dropout].train_acc_history, 'o', label='%.2f dropout' % dropout)\n",
    "plt.title('Train accuracy')\n",
    "plt.xlabel('Epoch')\n",
    "plt.ylabel('Accuracy')\n",
    "plt.legend(ncol=2, loc='lower right')\n",
    "  \n",
    "plt.subplot(3, 1, 2)\n",
    "for dropout in dropout_choices:\n",
    "  plt.plot(solvers[dropout].val_acc_history, 'o', label='%.2f dropout' % dropout)\n",
    "plt.title('Val accuracy')\n",
    "plt.xlabel('Epoch')\n",
    "plt.ylabel('Accuracy')\n",
    "plt.legend(ncol=2, loc='lower right')\n",
    "\n",
    "plt.gcf().set_size_inches(15, 15)\n",
    "plt.show()"
   ]
  },
  {
   "cell_type": "markdown",
   "metadata": {},
   "source": [
    "## Question\n",
    "\n",
    "Based off the results of this experiment, is dropout performing regularization?  Explain your answer."
   ]
  },
  {
   "cell_type": "markdown",
   "metadata": {},
   "source": [
    "## Answer:\n",
    "Dropout is performing regularization. We can tell from the graphs that the model using dropout has a lower training accuracy than the model without, but has a generally higher validation accuracy. This is because regularizing the model allows it to generalize better."
   ]
  },
  {
   "cell_type": "markdown",
   "metadata": {},
   "source": [
    "## Final part of the assignment\n",
    "\n",
    "Get over 55% validation accuracy on CIFAR-10 by using the layers you have implemented.  You will be graded according to the following equation:\n",
    "\n",
    "min(floor((X - 32%)) / 23%, 1) \n",
    "where if you get 55% or higher validation accuracy, you get full points."
   ]
  },
  {
   "cell_type": "code",
   "execution_count": 76,
   "metadata": {},
   "outputs": [
    {
     "name": "stdout",
     "output_type": "stream",
     "text": [
      "(Iteration 1 / 4900) loss: 2.327201\n",
      "(Epoch 0 / 10) train acc: 0.168000; val_acc: 0.181000\n",
      "(Epoch 1 / 10) train acc: 0.383000; val_acc: 0.427000\n",
      "(Epoch 2 / 10) train acc: 0.465000; val_acc: 0.441000\n",
      "(Epoch 3 / 10) train acc: 0.475000; val_acc: 0.473000\n",
      "(Epoch 4 / 10) train acc: 0.492000; val_acc: 0.488000\n",
      "(Epoch 5 / 10) train acc: 0.551000; val_acc: 0.494000\n",
      "(Epoch 6 / 10) train acc: 0.569000; val_acc: 0.516000\n",
      "(Epoch 7 / 10) train acc: 0.580000; val_acc: 0.521000\n",
      "(Epoch 8 / 10) train acc: 0.569000; val_acc: 0.518000\n",
      "(Epoch 9 / 10) train acc: 0.646000; val_acc: 0.513000\n",
      "(Epoch 10 / 10) train acc: 0.639000; val_acc: 0.543000\n"
     ]
    }
   ],
   "source": [
    "# ================================================================ #\n",
    "# YOUR CODE HERE:\n",
    "#   Implement a FC-net that achieves at least 55% validation accuracy\n",
    "#   on CIFAR-10.\n",
    "# ================================================================ #\n",
    "optimizer = 'adam'\n",
    "best_model = None\n",
    "\n",
    "best_dim = [600,600,600]\n",
    "weight_scale = 0.005\n",
    "best_lr  = 0.0001\n",
    "best_dropout = 0.7\n",
    "best_decay = 0.85\n",
    "\n",
    "model = FullyConnectedNet(best_dim, weight_scale=weight_scale,\n",
    "                        use_batchnorm=True ,dropout=best_dropout)\n",
    "\n",
    "solver = Solver(model, data,\n",
    "                num_epochs=10, batch_size=100,\n",
    "                update_rule=optimizer,\n",
    "                optim_config={\n",
    "                'learning_rate': best_lr,\n",
    "                },\n",
    "                lr_decay=best_decay,\n",
    "                verbose=True, print_every = 10000)\n",
    "solver.train()\n",
    "# ================================================================ #\n",
    "# END YOUR CODE HERE\n",
    "# ================================================================ #"
   ]
  }
 ],
 "metadata": {
  "kernelspec": {
   "display_name": "Python 3 (ipykernel)",
   "language": "python",
   "name": "python3"
  },
  "language_info": {
   "codemirror_mode": {
    "name": "ipython",
    "version": 3
   },
   "file_extension": ".py",
   "mimetype": "text/x-python",
   "name": "python",
   "nbconvert_exporter": "python",
   "pygments_lexer": "ipython3",
   "version": "3.10.8"
  }
 },
 "nbformat": 4,
 "nbformat_minor": 2
}
